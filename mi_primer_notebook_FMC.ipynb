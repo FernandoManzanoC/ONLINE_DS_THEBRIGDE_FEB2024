{
 "cells": [
  {
   "cell_type": "code",
   "execution_count": 1,
   "id": "b982198a-27a5-46cc-bb8c-e311db5181d1",
   "metadata": {},
   "outputs": [
    {
     "name": "stdout",
     "output_type": "stream",
     "text": [
      "Mi primer notebook\n"
     ]
    }
   ],
   "source": [
    "print(\"Mi primer notebook\")"
   ]
  },
  {
   "cell_type": "markdown",
   "id": "74a67688-f4eb-48f5-bdc2-fd666a906c71",
   "metadata": {},
   "source": [
    "Mi primer notebook"
   ]
  },
  {
   "cell_type": "code",
   "execution_count": null,
   "id": "f7744fce-8273-48fe-b4bd-69f594f025d6",
   "metadata": {},
   "outputs": [],
   "source": []
  }
 ],
 "metadata": {
  "kernelspec": {
   "display_name": "Python 3 (ipykernel)",
   "language": "python",
   "name": "python3"
  },
  "language_info": {
   "codemirror_mode": {
    "name": "ipython",
    "version": 3
   },
   "file_extension": ".py",
   "mimetype": "text/x-python",
   "name": "python",
   "nbconvert_exporter": "python",
   "pygments_lexer": "ipython3",
   "version": "3.12.1"
  }
 },
 "nbformat": 4,
 "nbformat_minor": 5
}
