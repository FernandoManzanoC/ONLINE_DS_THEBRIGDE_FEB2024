{
 "cells": [
  {
   "attachments": {},
   "cell_type": "markdown",
   "metadata": {},
   "source": [
    "# Simulacro Rampup"
   ]
  },
  {
   "cell_type": "code",
   "execution_count": 1,
   "metadata": {},
   "outputs": [],
   "source": [
    "# Escribe tu nombre y apellidos (apellido si solo tienes uno) en las variables:\n",
    "nombre = \"Fernando\"\n",
    "apellidos = \"Manzano Cuesta\""
   ]
  },
  {
   "cell_type": "code",
   "execution_count": 2,
   "metadata": {},
   "outputs": [
    {
     "name": "stdout",
     "output_type": "stream",
     "text": [
      "Bienvenido Fernando Manzano Cuesta. Mucha suerte!\n"
     ]
    }
   ],
   "source": [
    "# Solo ejecutar\n",
    "nombre_apellidos = nombre + ' ' + apellidos\n",
    "print(\"Bienvenido\", nombre_apellidos + '. Mucha suerte!')"
   ]
  },
  {
   "cell_type": "markdown",
   "metadata": {},
   "source": [
    "### Ejercicio 1: Calculadoras (3 puntos)\n"
   ]
  },
  {
   "cell_type": "markdown",
   "metadata": {},
   "source": [
    "Construye un programa que:\n",
    "\n",
    "- Salude al usuario por su nombre\n",
    "- Le pregunte si quiere sumar, restar, multiplicar o dividir\n",
    "- Pida que introduzca 2 números de manera sucesiva\n",
    "- Devuelva el resultado de manera formal con un mensaje apropiado \n",
    "\n",
    "**Ayuda**: No se puede dividir por 0"
   ]
  },
  {
   "cell_type": "code",
   "execution_count": 1,
   "metadata": {},
   "outputs": [
    {
     "name": "stdin",
     "output_type": "stream",
     "text": [
      "Por favor, indícame tu nombre para poder dirigirme a ti apropiadamente: Peric\n"
     ]
    },
    {
     "name": "stdout",
     "output_type": "stream",
     "text": [
      "¡Hola, Peric !\n"
     ]
    },
    {
     "name": "stdin",
     "output_type": "stream",
     "text": [
      "Peric, ¿qué operación deseas realizar: sumar, restar, multiplicar o dividir? dividir\n",
      "Por favor, introduce el primer número de la operación deseada:  45643,56\n"
     ]
    },
    {
     "name": "stdout",
     "output_type": "stream",
     "text": [
      "Por favor, introduce un número válido.\n"
     ]
    },
    {
     "name": "stdin",
     "output_type": "stream",
     "text": [
      "Por favor, introduce el primer número de la operación deseada:  56789.876\n",
      "Ahora, introduce el segundo número:  56n\n"
     ]
    },
    {
     "name": "stdout",
     "output_type": "stream",
     "text": [
      "Por favor, introduce un número válido.\n"
     ]
    },
    {
     "name": "stdin",
     "output_type": "stream",
     "text": [
      "Ahora, introduce el segundo número:  56.7\n"
     ]
    },
    {
     "name": "stdout",
     "output_type": "stream",
     "text": [
      "El resultado de dividir los números 56789.876 y 56.7 es: 1001.5851146384479\n"
     ]
    }
   ],
   "source": [
    "# Saludo al usuario por su nombre\n",
    "nombre = input(\"Por favor, indícame tu nombre para poder dirigirme a ti apropiadamente:\")\n",
    "print(\"¡Hola,\", nombre, \"!\")\n",
    "\n",
    "# Preguntar qué operación desea realizar\n",
    "operacion = input(nombre + \", ¿qué operación deseas realizar: sumar, restar, multiplicar o dividir?\")\n",
    "\n",
    "# Verificar que la operación sea válida\n",
    "while operacion.lower() not in ['sumar', 'restar', 'multiplicar', 'dividir']:\n",
    "    print(\"Opción no válida. Por favor, elige entre sumar, restar, multiplicar o dividir.\")\n",
    "    operacion = input(\"¿Qué operación deseas realizar: sumar, restar, multiplicar o dividir?\")\n",
    "\n",
    "# Pedir que introduzca 2 números de manera sucesiva\n",
    "while True:\n",
    "    try:\n",
    "        num1 = float(input(\"Por favor, introduce el primer número de la operación deseada: \"))\n",
    "        break\n",
    "    except ValueError:\n",
    "        print(\"Por favor, introduce un número válido.\")\n",
    "\n",
    "while True:\n",
    "    try:\n",
    "        num2 = float(input(\"Ahora, introduce el segundo número: \"))\n",
    "        break\n",
    "    except ValueError:\n",
    "        print(\"Por favor, introduce un número válido.\")\n",
    "\n",
    "# Realizar la operación correspondiente\n",
    "if operacion.lower() == 'sumar':\n",
    "    resultado = num1 + num2\n",
    "elif operacion.lower() == 'restar':\n",
    "    resultado = num1 - num2\n",
    "elif operacion.lower() == 'multiplicar':\n",
    "    resultado = num1 * num2\n",
    "elif operacion.lower() == 'dividir':\n",
    "    # Verificar que no se divida por 0\n",
    "    if num2 == 0:\n",
    "        print(\"No es posible dividir por 0.\")\n",
    "        resultado = None\n",
    "    else:\n",
    "        resultado = num1 / num2\n",
    "\n",
    "# Mostrar el resultado\n",
    "if resultado is not None:\n",
    "    print(\"El resultado de\", operacion.lower(), \"los números\", num1, \"y\", num2, \"es:\", resultado)\n"
   ]
  },
  {
   "cell_type": "markdown",
   "metadata": {},
   "source": [
    "Construye una calculadora que sea como la anterior pero:\n",
    "\n",
    "- Acepte tantos valores de entrada como queramos\n",
    "- Devuelva mensajes con las cuentas que se van haciendo.\n",
    "- Permita salir con una palabra clave (exit, quit, ...)"
   ]
  },
  {
   "cell_type": "code",
   "execution_count": 3,
   "metadata": {},
   "outputs": [
    {
     "name": "stdin",
     "output_type": "stream",
     "text": [
      "Por favor, indícame tu nombre para poder dirigirme a ti apropiadamente: fer\n"
     ]
    },
    {
     "name": "stdout",
     "output_type": "stream",
     "text": [
      "¡Hola, fer !\n"
     ]
    },
    {
     "name": "stdin",
     "output_type": "stream",
     "text": [
      "fer, ¿qué operación deseas realizar: sumar, restar, multiplicar o dividir? (escribe 'exit' para salir) sumar\n",
      "Por favor, introduce un número (o escribe 'fin' si has terminado):  4\n",
      "Por favor, introduce un número (o escribe 'fin' si has terminado):  3\n",
      "Por favor, introduce un número (o escribe 'fin' si has terminado):  fin\n"
     ]
    },
    {
     "name": "stdout",
     "output_type": "stream",
     "text": [
      "Suma de los números [4.0, 3.0]: 7.0\n"
     ]
    },
    {
     "name": "stdin",
     "output_type": "stream",
     "text": [
      "fer, ¿qué operación deseas realizar: sumar, restar, multiplicar o dividir? (escribe 'exit' para salir) exit\n"
     ]
    },
    {
     "name": "stdout",
     "output_type": "stream",
     "text": [
      "Hasta luego, fer !\n"
     ]
    }
   ],
   "source": [
    "def realizar_operacion(operacion, numeros):\n",
    "    if operacion.lower() == 'sumar':\n",
    "        resultado = sum(numeros)\n",
    "        mensaje = f\"Suma de los números {numeros}: {resultado}\"\n",
    "    elif operacion.lower() == 'restar':\n",
    "        resultado = numeros[0] - sum(numeros[1:])\n",
    "        mensaje = f\"Resta de los números {numeros}: {resultado}\"\n",
    "    elif operacion.lower() == 'multiplicar':\n",
    "        resultado = 1\n",
    "        for num in numeros:\n",
    "            resultado *= num\n",
    "        mensaje = f\"Multiplicación de los números {numeros}: {resultado}\"\n",
    "    elif operacion.lower() == 'dividir':\n",
    "        if 0 in numeros[1:]:\n",
    "            return \"Error: División por cero. Comprueba los datos.\"\n",
    "        resultado = numeros[0]\n",
    "        for num in numeros[1:]:\n",
    "            resultado /= num\n",
    "        mensaje = f\"División de los números {numeros}: {resultado}\"\n",
    "    return mensaje\n",
    "\n",
    "nombre = input(\"Por favor, indícame tu nombre para poder dirigirme a ti apropiadamente:\")\n",
    "print(\"¡Hola,\", nombre, \"!\")\n",
    "\n",
    "while True:\n",
    "    operacion = input(f\"{nombre}, ¿qué operación deseas realizar: sumar, restar, multiplicar o dividir? (escribe 'exit' para salir)\")\n",
    "\n",
    "    if operacion.lower() in ['exit', 'quit','fin']:\n",
    "        print(\"Hasta luego,\", nombre, \"!\")\n",
    "        break\n",
    "\n",
    "    elif operacion.lower() not in ['sumar', 'restar', 'multiplicar', 'dividir']:\n",
    "        print(\"Opción no válida. Por favor, elige entre sumar, restar, multiplicar o dividir.\")\n",
    "        continue\n",
    "\n",
    "    numeros = []\n",
    "    while True:\n",
    "        num_input = input(\"Por favor, introduce un número (o escribe 'fin' si has terminado): \")\n",
    "        if num_input.lower() == 'fin':\n",
    "            break\n",
    "        try:\n",
    "            numero = float(num_input)\n",
    "            numeros.append(numero)\n",
    "        except ValueError:\n",
    "            print(\"Por favor, introduce un número válido.\")\n",
    "\n",
    "    if len(numeros) < 2 and operacion.lower() in ['sumar', 'restar', 'multiplicar', 'dividir']:\n",
    "        print(\"Se requieren al menos dos números para realizar la operación.\")\n",
    "        continue\n",
    "\n",
    "    resultado_final = realizar_operacion(operacion, numeros)\n",
    "    print(resultado_final)\n",
    "\n"
   ]
  },
  {
   "cell_type": "markdown",
   "metadata": {},
   "source": [
    "### Ejercicio 2 (4 puntos)\n",
    "\n",
    "Escribe un programa que trabaje con 3 listas:\n",
    "\n",
    "La lista ***grupo_musical*** contiene strings.\n",
    "\n",
    "La lista ***generos*** contiene strings.\n",
    "\n",
    "La lista ***anios*** puede contener un entero o tuplas.\n",
    "\n",
    "Ejemplo de datos:\n",
    "\n",
    ">\"ABBA\"\n",
    ">\n",
    ">\"pop\"\n",
    ">\n",
    ">(1972, 1982)\n",
    "\n",
    "Otro ejemplo:\n",
    "\n",
    ">\"Madonna\"\n",
    ">\n",
    ">\"pop\"\n",
    ">\n",
    ">1983\n",
    "\n",
    "Otro ejemplo:\n",
    "\n",
    ">\"Kölsch\"\n",
    ">\n",
    ">\"electronica\"\n",
    ">\n",
    ">1995\n",
    "\n",
    "Un grupo musical solo puede tener un género musical.\n",
    "Un grupo musical debe tener como mínimo un año de formación, que es un entero.\n",
    "Un grupo musical, si tuviese año de disolución, la información se guardaría en una tupla.\n",
    "\n",
    "Se pide implementar:\n",
    "\n",
    "a. Una función llamada *inserta* que acepte 4 parámetros (grupo, genero, comienzo, fin). El fin por defecto debe ser un objeto nulo. El grupo se inserta en la lista de grupos. El genero se inserta en la lista de géneros. El comienzo o comienzo y fin se inserta en la lista de años. La función no tiene valor retornado.\n",
    "\n",
    "b. Una función *busca_genero* con un parámetro de tipo string (genero) y devuelve una lista con todos los grupos de ese género.\n",
    "\n",
    "c. Una función *busca_grupos* con un parámetro booleano llamado *activos* con un valor por defecto verdadero. Cuando el valor es verdadero, devuelve solo los grupos activos en una lista. Cuando *activos* es falso, devuelve todos los grupos disueltos en una lista.\n",
    "\n",
    "d. Una función *busca_genero_indice* con un parámetro de tipo string (genero) que devuelve una lista con los índices donde se encuentra ese género.\n",
    "\n",
    "e. Una función *filtra_listas_genero* con un parámetro de tipo string (genero) que devuelve una tupla con las 3 listas filtradas y ***llame*** a busca_genero_indice\n",
    "\n",
    "f. Una función *anios_activos* que no tenga parámetros de entrada ni valor retornado que imprima línea a línea la información: grupo musical ---> años activos. Es decir: \n",
    "\n",
    ">ABBA ---> 10 años activos\n",
    ">\n",
    ">Madonna --> 40 años activos\n",
    ">\n",
    ">Kölsch --> 25 años activos\n",
    "\n",
    "\n",
    "Nota: si no te sale un apartado después de un tiempo prudencial, ¡pasa al siguiente!"
   ]
  },
  {
   "cell_type": "code",
   "execution_count": 1,
   "metadata": {},
   "outputs": [
    {
     "name": "stdout",
     "output_type": "stream",
     "text": [
      "Grupos de pop: ['ABBA', 'Madonna']\n",
      "Grupos activos: ['Madonna', 'Kölsch']\n",
      "Grupos disueltos: ['ABBA']\n",
      "Índices de 'pop': [0, 1]\n",
      "Listas filtradas para 'pop': (['ABBA', 'Madonna'], ['pop', 'pop'], [(1972, 1982), 1983], [0, 1])\n",
      "Información de años activos:\n",
      "ABBA ---> 10 años activos\n",
      "Madonna ---> 39 años activos\n",
      "Kölsch ---> 27 años activos\n"
     ]
    }
   ],
   "source": [
    "# Lista de grupos musicales\n",
    "grupo_musical = []\n",
    "# Lista de géneros\n",
    "generos = []\n",
    "# Lista de años\n",
    "anios = []\n",
    "\n",
    "def inserta(grupo, genero, comienzo, fin=None):\n",
    "    \"\"\"\n",
    "    Inserta un grupo musical, su género y años en las listas correspondientes.\n",
    "\n",
    "    Args:\n",
    "        grupo (str): Nombre del grupo musical.\n",
    "        genero (str): Género musical del grupo.\n",
    "        comienzo (int): Año de formación del grupo.\n",
    "        fin (int, tuple): Año de disolución del grupo (opcional). Si es una tupla, contiene el año de disolución.\n",
    "\n",
    "    Returns:\n",
    "        None\n",
    "    \"\"\"\n",
    "    grupo_musical.append(grupo)\n",
    "    generos.append(genero)\n",
    "    if fin is not None:\n",
    "        if isinstance(fin, int):\n",
    "            anios.append((comienzo, fin))\n",
    "        else:\n",
    "            anios.append((comienzo, fin[0]))\n",
    "    else:\n",
    "        anios.append(comienzo)\n",
    "\n",
    "def busca_genero(genero):\n",
    "    \"\"\"\n",
    "    Busca todos los grupos de un género musical específico.\n",
    "\n",
    "    Args:\n",
    "        genero (str): Género musical a buscar.\n",
    "\n",
    "    Returns:\n",
    "        list: Lista de grupos musicales del género especificado.\n",
    "    \"\"\"\n",
    "    grupos = []\n",
    "    for i, g in enumerate(generos):\n",
    "        if g == genero:\n",
    "            grupos.append(grupo_musical[i])\n",
    "    return grupos\n",
    "\n",
    "def busca_grupos(activos=True):\n",
    "    \"\"\"\n",
    "    Busca grupos activos o disueltos según el parámetro activos.\n",
    "\n",
    "    Args:\n",
    "        activos (bool): Indica si se deben buscar grupos activos (True) o disueltos (False).\n",
    "\n",
    "    Returns:\n",
    "        list: Lista de grupos activos o disueltos.\n",
    "    \"\"\"\n",
    "    grupos = []\n",
    "    for i, g in enumerate(anios):\n",
    "        if activos and isinstance(g, int):\n",
    "            grupos.append(grupo_musical[i])\n",
    "        elif not activos and isinstance(g, tuple):\n",
    "            grupos.append(grupo_musical[i])\n",
    "    return grupos\n",
    "\n",
    "def busca_genero_indice(genero):\n",
    "    \"\"\"\n",
    "    Busca los índices donde se encuentra un género musical específico en la lista de géneros.\n",
    "\n",
    "    Args:\n",
    "        genero (str): Género musical a buscar.\n",
    "\n",
    "    Returns:\n",
    "        list: Lista de índices donde se encuentra el género especificado.\n",
    "    \"\"\"\n",
    "    indices = []\n",
    "    for i, g in enumerate(generos):\n",
    "        if g == genero:\n",
    "            indices.append(i)\n",
    "    return indices\n",
    "\n",
    "def filtra_listas_genero(genero):\n",
    "    \"\"\"\n",
    "    Filtra las listas de acuerdo a un género musical y llama a la función busca_genero_indice.\n",
    "\n",
    "    Args:\n",
    "        genero (str): Género musical a filtrar.\n",
    "\n",
    "    Returns:\n",
    "        tuple: Tupla con las tres listas filtradas y la lista de índices del género.\n",
    "    \"\"\"\n",
    "    grupos_filtrados = []\n",
    "    generos_filtrados = []\n",
    "    anios_filtrados = []\n",
    "    indices_genero = busca_genero_indice(genero)\n",
    "    for i in indices_genero:\n",
    "        grupos_filtrados.append(grupo_musical[i])\n",
    "        generos_filtrados.append(generos[i])\n",
    "        anios_filtrados.append(anios[i])\n",
    "    return grupos_filtrados, generos_filtrados, anios_filtrados, indices_genero\n",
    "\n",
    "def anios_activos():\n",
    "    \"\"\"\n",
    "    Imprime la información de los años activos de cada grupo musical.\n",
    "    \"\"\"\n",
    "    for i, grupo in enumerate(grupo_musical):\n",
    "        if isinstance(anios[i], int):\n",
    "            print(\"{} ---> {} años activos\".format(grupo, 2022 - anios[i]))\n",
    "        elif isinstance(anios[i], tuple):\n",
    "            print(\"{} ---> {} años activos\".format(grupo, anios[i][1] - anios[i][0]))\n",
    "\n",
    "# Ejemplo de uso\n",
    "inserta(\"ABBA\", \"pop\", 1972, 1982)\n",
    "inserta(\"Madonna\", \"pop\", 1983)\n",
    "inserta(\"Kölsch\", \"electronica\", 1995)\n",
    "\n",
    "print(\"Grupos de pop:\", busca_genero(\"pop\"))\n",
    "print(\"Grupos activos:\", busca_grupos(activos=True))\n",
    "print(\"Grupos disueltos:\", busca_grupos(activos=False))\n",
    "print(\"Índices de 'pop':\", busca_genero_indice(\"pop\"))\n",
    "print(\"Listas filtradas para 'pop':\", filtra_listas_genero(\"pop\"))\n",
    "print(\"Información de años activos:\")\n",
    "anios_activos()\n"
   ]
  },
  {
   "attachments": {},
   "cell_type": "markdown",
   "metadata": {},
   "source": [
    "### Ejercicio 3 (3 puntos)\n",
    "\n",
    "#### Crear un programa que calcule la cuota de una hipoteca\n",
    "\n",
    "Las cuotas hipotecarias se calculan utilizando la fórmula del interés francés. \n",
    "\n",
    "La fórmula del interés francés es la siguiente:\n",
    "\\begin{align*}\n",
    "C=V \\frac{(1+i)^n i}{(1+i)^n -1}\n",
    "\\end{align*}\n",
    "\n",
    "\n",
    "    C = cuota a pagar (mensual)\n",
    "    V = volumen del préstamo hipotecario\n",
    "    i = tipo de interés del período (mensual)\n",
    "    n = número de cuotas (mensuales)\n",
    "\n"
   ]
  },
  {
   "attachments": {},
   "cell_type": "markdown",
   "metadata": {},
   "source": [
    "1. Crea un programa que solicite al usuario los datos de su hipoteca mediante input() los datos (volumen, interés **anual**, y plazo en **años**) y le devuelva la cuota **mensual** a pagar. No es necesario encapsularlo en funciones. (0.4)"
   ]
  },
  {
   "cell_type": "code",
   "execution_count": 1,
   "metadata": {},
   "outputs": [
    {
     "name": "stdin",
     "output_type": "stream",
     "text": [
      "Por favor, introduce el volumen del préstamo hipotecario en euros:  100000\n",
      "Por favor, introduce el tipo de interés anual en porcentaje (por ejemplo, 3.5 para 3.5%):  3\n",
      "Por favor, introduce el plazo en años del préstamo hipotecario:  20\n"
     ]
    },
    {
     "name": "stdout",
     "output_type": "stream",
     "text": [
      "La cuota mensual a pagar es de: 554.5975978539207 euros.\n"
     ]
    }
   ],
   "source": [
    "# Solicitar al usuario los datos de la hipoteca\n",
    "volumen_prestamo = float(input(\"Por favor, introduce el volumen del préstamo hipotecario en euros: \"))\n",
    "interes_anual = float(input(\"Por favor, introduce el tipo de interés anual en porcentaje (por ejemplo, 3.5 para 3.5%): \"))\n",
    "plazo_anios = int(input(\"Por favor, introduce el plazo en años del préstamo hipotecario: \"))\n",
    "\n",
    "# Convertir el tipo de interés anual a mensual y calcular el número total de cuotas\n",
    "interes_mensual = interes_anual / 12 / 100\n",
    "numero_cuotas = plazo_anios * 12\n",
    "\n",
    "# Calcular la cuota mensual utilizando la fórmula del interés francés\n",
    "#cuota_mensual = (volumen_prestamo * interes_mensual) / (1 - (1 + interes_mensual) ** -numero_cuotas)\n",
    "cuota_mensual = volumen_prestamo * (((1 + interes_mensual) ** numero_cuotas * interes_mensual) / ((1 + interes_mensual) ** numero_cuotas - 1))\n",
    "\n",
    "# Mostrar la cuota mensual al usuario\n",
    "print(\"La cuota mensual a pagar es de:\", cuota_mensual, \"euros.\")\n"
   ]
  },
  {
   "cell_type": "code",
   "execution_count": null,
   "metadata": {},
   "outputs": [],
   "source": []
  },
  {
   "attachments": {},
   "cell_type": "markdown",
   "metadata": {},
   "source": [
    "2. Crea una función `calcular_hip` que realiza el cálculo y cuyos argumentos de entrada sean `volumen`, `interes_anual` y `años`, devolviendo la couta mensual(float). El argumento de `años` deberá de tener un valor por defecto de 30. Documenta la función con el estilo de Google.  (0.4)"
   ]
  },
  {
   "cell_type": "code",
   "execution_count": 4,
   "metadata": {},
   "outputs": [
    {
     "name": "stdout",
     "output_type": "stream",
     "text": [
      "La cuota mensual a pagar es de: 898.089375617647 euros.\n"
     ]
    }
   ],
   "source": [
    "def calcular_hip(volumen, interes_anual, anios=30):\n",
    "    \"\"\"\n",
    "    Calcula la cuota mensual de una hipoteca utilizando la fórmula del interés francés.\n",
    "\n",
    "    Args:\n",
    "        volumen (float): Volumen del préstamo hipotecario.\n",
    "        interes_anual (float): Tipo de interés anual (en porcentaje).\n",
    "        anios (int, optional): Plazo en años del préstamo hipotecario. Valor por defecto es 30.\n",
    "\n",
    "    Returns:\n",
    "        float: La cuota mensual a pagar.\n",
    "\n",
    "    \"\"\"\n",
    "    try:\n",
    "        # Convertir el tipo de interés anual a mensual\n",
    "        interes_mensual = interes_anual / 12 / 100\n",
    "        \n",
    "        # Calcular el número total de cuotas\n",
    "        numero_cuotas = anios * 12\n",
    "        \n",
    "        # Calcular la cuota mensual utilizando la fórmula del interés francés\n",
    "        cuota_mensual = (volumen * interes_mensual) / (1 - (1 + interes_mensual) ** -numero_cuotas)\n",
    "        \n",
    "        return cuota_mensual\n",
    "    \n",
    "    except (TypeError, ValueError):\n",
    "        raise ValueError(\"Los argumentos deben ser números válidos.\")\n",
    "\n",
    "\n",
    "# Ejemplo de uso\n",
    "volumen_prestamo = 200000  # 200,000 euros\n",
    "interes_anual = 3.5  # 3.5% de interés anual\n",
    "cuota = calcular_hip(volumen_prestamo, interes_anual)\n",
    "print(\"La cuota mensual a pagar es de:\", cuota, \"euros.\")\n"
   ]
  },
  {
   "attachments": {},
   "cell_type": "markdown",
   "metadata": {},
   "source": [
    "3. Calcula la cuota y guárdala en la variable `res_cuota` si la cantidad de la hipoteca son 350000 euros, el interés anual es del 5% y la quiere pagar en 20 años a partir de la función `calcular_hip`. (0.4)\n",
    "\n"
   ]
  },
  {
   "cell_type": "code",
   "execution_count": 5,
   "metadata": {},
   "outputs": [
    {
     "name": "stdout",
     "output_type": "stream",
     "text": [
      "La cuota mensual a pagar es: 2309.8450872583053 euros.\n"
     ]
    }
   ],
   "source": [
    "# Calcular la cuota para una hipoteca de 350000 euros, con un interés anual del 5% y un plazo de 20 años\n",
    "res_cuota = calcular_hip(350000, 5, 20)\n",
    "\n",
    "print(\"La cuota mensual a pagar es:\", res_cuota, \"euros.\")"
   ]
  },
  {
   "attachments": {},
   "cell_type": "markdown",
   "metadata": {},
   "source": [
    "4. Crea una función `gasto_vivienda`, con dos argumentos de entrada `ingreso` y `lista_hip`. Esta lista tendrá los 3 valores de los argumentos de entrada de `calcular_hip`, llamando a esta función desde dentro de `gasto_vivienda`. Tiene que devolver el valor del porcentaje de gasto en la hipoteca respecto a los ingresos. (Entre 0 y 1, es decir 0.5 si es del 50%) Documenta la función. (0.4)"
   ]
  },
  {
   "cell_type": "code",
   "execution_count": 6,
   "metadata": {},
   "outputs": [
    {
     "name": "stdout",
     "output_type": "stream",
     "text": [
      "Porcentaje de gasto en la hipoteca respecto a los ingresos: 0.2903421999326628\n"
     ]
    }
   ],
   "source": [
    "def calcular_hip(volumen: float, interes_anual: float, años: int = 30) -> float:\n",
    "    \"\"\"\n",
    "    Calcula la cuota mensual de una hipoteca utilizando la fórmula del interés francés.\n",
    "\n",
    "    Args:\n",
    "        volumen (float): Volumen del préstamo hipotecario.\n",
    "        interes_anual (float): Tasa de interés anual (en porcentaje).\n",
    "        años (int, optional): Plazo de la hipoteca en años. Por defecto es 30.\n",
    "\n",
    "    Returns:\n",
    "        float: Cuota mensual a pagar.\n",
    "\n",
    "    Example:\n",
    "        >>> calcular_hip(100000, 5)\n",
    "        536.82\n",
    "    \"\"\"\n",
    "    # Convertir el interés anual a mensual y a decimal\n",
    "    interes_mensual = (interes_anual / 100) / 12\n",
    "\n",
    "    # Convertir el plazo de años a meses\n",
    "    plazo_meses = años * 12\n",
    "\n",
    "    # Calcular la cuota mensual utilizando la fórmula del interés francés\n",
    "    cuota_mensual = volumen * (interes_mensual / (1 - (1 + interes_mensual) ** -plazo_meses))\n",
    "    \n",
    "    return cuota_mensual\n",
    "\n",
    "\n",
    "def gasto_vivienda(ingreso: float, lista_hip: list) -> float:\n",
    "    \"\"\"\n",
    "    Calcula el porcentaje de gasto en la hipoteca respecto a los ingresos mensuales.\n",
    "\n",
    "    Args:\n",
    "        ingreso (float): Ingreso mensual del individuo.\n",
    "        lista_hip (list): Lista de hipotecas representadas por tuplas (volumen, interes_anual, años).\n",
    "\n",
    "    Returns:\n",
    "        float: Porcentaje de gasto en la hipoteca respecto a los ingresos mensuales.\n",
    "\n",
    "    Example:\n",
    "        >>> gasto_vivienda(5000, [(100000, 5, 20), (150000, 4, 25)])\n",
    "        0.368\n",
    "    \"\"\"\n",
    "    total_cuota = 0\n",
    "    for hipoteca in lista_hip:\n",
    "        volumen, interes_anual, años = hipoteca\n",
    "        cuota = calcular_hip(volumen, interes_anual, años)\n",
    "        total_cuota += cuota\n",
    "    porcentaje_gasto = total_cuota / ingreso\n",
    "    return porcentaje_gasto\n",
    "\n",
    "# Ejemplo de uso\n",
    "ingreso_mensual = 5000\n",
    "lista_hipotecas = [(100000, 5, 20), (150000, 4, 25)]\n",
    "porcentaje_gasto = gasto_vivienda(ingreso_mensual, lista_hipotecas)\n",
    "print(\"Porcentaje de gasto en la hipoteca respecto a los ingresos:\", porcentaje_gasto)\n"
   ]
  },
  {
   "attachments": {},
   "cell_type": "markdown",
   "metadata": {},
   "source": [
    "5. Calcula el porcentaje de gasto en la hipoteca si el ingreso es de 1700 euros y guárdalo en la variable `res_porcentaje` a partir de la función `gasto_vivienda`. (0.4)\n"
   ]
  },
  {
   "cell_type": "code",
   "execution_count": 7,
   "metadata": {},
   "outputs": [
    {
     "name": "stdout",
     "output_type": "stream",
     "text": [
      "Porcentaje de gasto en la hipoteca respecto a los ingresos: 0.853947646860773\n"
     ]
    }
   ],
   "source": [
    "ingreso_mensual = 1700\n",
    "lista_hipotecas = [(100000, 5, 20), (150000, 4, 25)]\n",
    "\n",
    "res_porcentaje = gasto_vivienda(ingreso_mensual, lista_hipotecas)\n",
    "print(\"Porcentaje de gasto en la hipoteca respecto a los ingresos:\", res_porcentaje)\n"
   ]
  },
  {
   "cell_type": "code",
   "execution_count": null,
   "metadata": {},
   "outputs": [],
   "source": []
  }
 ],
 "metadata": {
  "kernelspec": {
   "display_name": "Python 3 (ipykernel)",
   "language": "python",
   "name": "python3"
  },
  "language_info": {
   "codemirror_mode": {
    "name": "ipython",
    "version": 3
   },
   "file_extension": ".py",
   "mimetype": "text/x-python",
   "name": "python",
   "nbconvert_exporter": "python",
   "pygments_lexer": "ipython3",
   "version": "3.12.1"
  },
  "vscode": {
   "interpreter": {
    "hash": "90139cb9a825bf3d63f6f6704e828dbd1ff7edbd4d0c6e906a71235d6efc74af"
   }
  }
 },
 "nbformat": 4,
 "nbformat_minor": 4
}
