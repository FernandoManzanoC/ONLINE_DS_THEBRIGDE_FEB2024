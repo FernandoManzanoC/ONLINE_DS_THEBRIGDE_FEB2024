{
 "cells": [
  {
   "attachments": {},
   "cell_type": "markdown",
   "metadata": {},
   "source": [
    "# Simulacro Rampup"
   ]
  },
  {
   "cell_type": "code",
   "execution_count": 1,
   "metadata": {},
   "outputs": [],
   "source": [
    "# Escribe tu nombre y apellidos (apellido si solo tienes uno) en las variables:\n",
    "nombre = \"Fernando\"\n",
    "apellidos = \"Manzano\""
   ]
  },
  {
   "cell_type": "code",
   "execution_count": 2,
   "metadata": {},
   "outputs": [
    {
     "name": "stdout",
     "output_type": "stream",
     "text": [
      "Bienvenido Fernando Manzano. Mucha suerte!\n"
     ]
    }
   ],
   "source": [
    "# Solo ejecutar\n",
    "nombre_apellidos = nombre + ' ' + apellidos\n",
    "print(\"Bienvenido\", nombre_apellidos + '. Mucha suerte!')"
   ]
  },
  {
   "cell_type": "markdown",
   "metadata": {},
   "source": [
    "### Ejercicio 1: Calculadoras (3 puntos)\n"
   ]
  },
  {
   "cell_type": "markdown",
   "metadata": {},
   "source": [
    "Construye un programa que:\n",
    "\n",
    "- Salude al usuario por su nombre\n",
    "- Le pregunte si quiere sumar, restar, multiplicar o dividir\n",
    "- Pida que introduzca 2 números de manera sucesiva\n",
    "- Devuelva el resultado de manera formal con un mensaje apropiado \n",
    "\n",
    "**Ayuda**: No se puede dividir por 0"
   ]
  },
  {
   "cell_type": "code",
   "execution_count": null,
   "metadata": {},
   "outputs": [],
   "source": [
    "\n"
   ]
  },
  {
   "cell_type": "markdown",
   "metadata": {},
   "source": [
    "Construye una calculadora que sea como la anterior pero:\n",
    "\n",
    "- Acepte tantos valores de entrada como queramos\n",
    "- Devuelva mensajes con las cuentas que se van haciendo.\n",
    "- Permita salir con una palabra clave (exit, quit, ...)"
   ]
  },
  {
   "cell_type": "code",
   "execution_count": null,
   "metadata": {},
   "outputs": [],
   "source": [
    "\n"
   ]
  },
  {
   "attachments": {},
   "cell_type": "markdown",
   "metadata": {},
   "source": [
    "### Ejercicio 2 (3 puntos)\n",
    "\n",
    "#### Crear un programa que calcule la cuota de una hipoteca\n",
    "\n",
    "Las cuotas hipotecarias se calculan utilizando la fórmula del interés francés. \n",
    "\n",
    "La fórmula del interés francés es la siguiente:\n",
    "\\begin{align*}\n",
    "C=V \\frac{(1+i)^n i}{(1+i)^n -1}\n",
    "\\end{align*}\n",
    "\n",
    "\n",
    "    C = cuota a pagar (mensual)\n",
    "    V = volumen del préstamo hipotecario\n",
    "    i = tipo de interés del período (mensual)\n",
    "    n = número de cuotas (mensuales)\n",
    "\n"
   ]
  },
  {
   "attachments": {},
   "cell_type": "markdown",
   "metadata": {},
   "source": [
    "1. Crea un programa que solicite al usuario los datos de su hipoteca mediante input() los datos (volumen, interés **anual**, y plazo en **años**) y le devuelva la cuota **mensual** a pagar. No es necesario encapsularlo en funciones. (0.4)"
   ]
  },
  {
   "cell_type": "code",
   "execution_count": null,
   "metadata": {},
   "outputs": [],
   "source": []
  },
  {
   "attachments": {},
   "cell_type": "markdown",
   "metadata": {},
   "source": [
    "2. Crea una función `calcular_hip` que realiza el cálculo y cuyos argumentos de entrada sean `volumen`, `interes_anual` y `años`, devolviendo la couta mensual(float). El argumento de `años` deberá de tener un valor por defecto de 30. Documenta la función con el estilo de Google.  (0.4)"
   ]
  },
  {
   "cell_type": "code",
   "execution_count": null,
   "metadata": {},
   "outputs": [],
   "source": []
  },
  {
   "attachments": {},
   "cell_type": "markdown",
   "metadata": {},
   "source": [
    "3. Calcula la cuota y guárdala en la variable `res_cuota` si la cantidad de la hipoteca son 350000 euros, el interés anual es del 5% y la quiere pagar en 20 años a partir de la función `calcular_hip`. (0.4)\n",
    "\n"
   ]
  },
  {
   "cell_type": "code",
   "execution_count": null,
   "metadata": {},
   "outputs": [],
   "source": []
  },
  {
   "attachments": {},
   "cell_type": "markdown",
   "metadata": {},
   "source": [
    "4. Crea una función `gasto_vivienda`, con dos argumentos de entrada `ingreso` y `lista_hip`. Esta lista tendrá los 3 valores de los argumentos de entrada de `calcular_hip`, llamando a esta función desde dentro de `gasto_vivienda`. Tiene que devolver el valor del porcentaje de gasto en la hipoteca respecto a los ingresos. (Entre 0 y 1, es decir 0.5 si es del 50%) Documenta la función. (0.4)"
   ]
  },
  {
   "cell_type": "code",
   "execution_count": null,
   "metadata": {},
   "outputs": [],
   "source": []
  },
  {
   "attachments": {},
   "cell_type": "markdown",
   "metadata": {},
   "source": [
    "5. Calcula el porcentaje de gasto en la hipoteca si el ingreso es de 1700 euros y guárdalo en la variable `res_porcentaje` a partir de la función `gasto_vivienda`. (0.4)\n"
   ]
  },
  {
   "cell_type": "markdown",
   "metadata": {},
   "source": [
    "#### Ejercicio 3 (3 puntos)\n",
    "\n",
    "Crea un programa que simule un carrusel infantil.\n",
    "\n",
    "\n",
    "El carrusel infantil tiene 3 posibles cochecitos: barco - bomberos - avioneta (una variable global de tipo lista, fuera de tu función).\n",
    "\n",
    "Debes escribir una **FUNCIÓN** llamada carrusel que tenga dos parámetros de entrada: el cochecito que eliges (puede valer el string barco, bomberos o avioneta) y un segundo parámetro llamado vueltas que es un entero.\n",
    "\n",
    "Tu función carrusel NO debe retornar nada, pero debe llamar internamente a coloca(cochecito), ya te lo doy programado. Si sientas al niño en \"avioneta\" y pones 3 vueltas, la función debería imprimir:\n",
    "\n",
    "\"vuelta 1: avioneta - barco - bomberos\"\n",
    "\n",
    "\"vuelta 2: avioneta - barco - bomberos\"\n",
    "\n",
    "\"vuelta 3: avioneta - barco - bomberos\"\n",
    "\n",
    "Se valorará positivamente que haya **UN BUCLE WHILE**.\n",
    "Si no te acaba de funcionar llamando a coloca(cochecito) tras un tiempo prudencial, escribe tu código sin usarlo."
   ]
  },
  {
   "cell_type": "code",
   "execution_count": 7,
   "metadata": {},
   "outputs": [],
   "source": [
    "lista_carrusel = [\"barco\", \"bomberos\", \"avioneta\"]\n",
    "\n",
    "def coloca(cochecito):  \n",
    "    if cochecito == \"barco\": \n",
    "        return lista_carrusel \n",
    "    elif cochecito == \"bomberos\" or cochecito == \"avioneta\": \n",
    "        elemento = lista_carrusel.pop(0)\n",
    "        lista_carrusel.append(elemento) \n",
    "    if cochecito == \"avioneta\":\n",
    "        elemento = lista_carrusel.pop(0) \n",
    "        lista_carrusel.append(elemento) \n",
    "    return lista_carrusel"
   ]
  },
  {
   "cell_type": "code",
   "execution_count": 9,
   "metadata": {},
   "outputs": [
    {
     "name": "stdout",
     "output_type": "stream",
     "text": [
      "vuelta 1: barco - bomberos - avioneta\n",
      "vuelta 2: avioneta - barco - bomberos\n",
      "vuelta 3: bomberos - avioneta - barco\n"
     ]
    }
   ],
   "source": [
    "# Variable global que contiene los cochecitos del carrusel\n",
    "lista_carrusel = [\"barco\", \"bomberos\", \"avioneta\"]\n",
    "\n",
    "def coloca(cochecito):\n",
    "    \"\"\"\n",
    "    Coloca al niño en el cochecito especificado.\n",
    "\n",
    "    Args:\n",
    "        cochecito (str): El cochecito en el que se colocará al niño.\n",
    "\n",
    "    Returns:\n",
    "        list: La lista actualizada de cochecitos en el carrusel.\n",
    "    \"\"\"\n",
    "    # Si el cochecito es \"barco\", no se cambia el orden de la lista\n",
    "    if cochecito == \"barco\": \n",
    "        return lista_carrusel \n",
    "    # Si el cochecito es \"bomberos\" o \"avioneta\", se cambia el orden de la lista\n",
    "    elif cochecito == \"bomberos\" or cochecito == \"avioneta\": \n",
    "        elemento = lista_carrusel.pop(0)  # Sacamos el primer elemento de la lista\n",
    "        lista_carrusel.append(elemento)  # Lo añadimos al final de la lista\n",
    "    # Si el cochecito es \"avioneta\", se cambia de nuevo el orden de la lista\n",
    "    if cochecito == \"avioneta\":\n",
    "        elemento = lista_carrusel.pop(0)  # Sacamos de nuevo el primer elemento de la lista\n",
    "        lista_carrusel.append(elemento)  # Lo añadimos al final de la lista\n",
    "    return lista_carrusel\n",
    "\n",
    "def carrusel(cochecito, vueltas):\n",
    "    \"\"\"\n",
    "    Simula el funcionamiento de un carrusel infantil.\n",
    "\n",
    "    Args:\n",
    "        cochecito (str): El cochecito en el que se sentará al niño.\n",
    "        vueltas (int): El número de vueltas que dará el carrusel.\n",
    "\n",
    "    Returns:\n",
    "        None\n",
    "    \"\"\"\n",
    "    i = 1\n",
    "    while i <= vueltas:\n",
    "        print(\"vuelta {}: {}\".format(i, \" - \".join(lista_carrusel)))\n",
    "        coloca(cochecito)\n",
    "        i += 1\n",
    "\n",
    "# Ejemplo de uso\n",
    "carrusel(\"avioneta\", 3)\n"
   ]
  },
  {
   "cell_type": "code",
   "execution_count": 8,
   "metadata": {},
   "outputs": [],
   "source": [
    "def carrusel(cochecito=str, vuelta=int):\n",
    "    while True:\n",
    "        cochecito = input(\"Por favor, introduce el cochecito que deseas: avioneta - barco - bomberos\").lower()\n",
    "        if cochecito not in ['avioneta', 'barco', 'bomberos']:\n",
    "            print(\"Introduce un cochecito de la lista\")\n",
    "        else:\n",
    "            break\n",
    "\n",
    "    vuelta = int(input(\"Introduce el número de vueltas deseadas: \"))\n",
    "\n",
    "    \n",
    "    \n"
   ]
  },
  {
   "cell_type": "code",
   "execution_count": null,
   "metadata": {},
   "outputs": [],
   "source": []
  },
  {
   "cell_type": "markdown",
   "metadata": {},
   "source": [
    "**EJERCICIO BONUS:**\n",
    "1. Crea una función que, dado un input `x`, devuelva \n",
    "$$\n",
    "y = 4x + 2\n",
    "$$\n",
    "\n",
    "2. Crea una función que, dado un input `x`, devuelva \n",
    "$$\n",
    "y = 3x^2 + 4x + 2\n",
    "$$\n",
    "\n",
    "3. Dado el polinomio\n",
    "\n",
    "$$\n",
    "a_nx^n + a_{n-1}x^{n-1} + ... + a_2x^2 + a_1x + a_0\n",
    "$$\n",
    "\n",
    "Crea una función que reciba como input `x` y una lista de `[a_0, ..., a_n]` y devuelva el valor del polinomio en `x`.\n",
    "\n",
    "**Nota**: En caso de no poder con una función, hacerlo como se pueda.\n",
    "\n",
    "**Pista**: El primero cumple `n = 1` y los parámetros son `[2, 4]`. El segundo: `n = 2` y los parámetros `[2, 4, 3]`. Con esta información, intenta generalizar."
   ]
  },
  {
   "cell_type": "code",
   "execution_count": 10,
   "metadata": {},
   "outputs": [
    {
     "name": "stdout",
     "output_type": "stream",
     "text": [
      "El resultado de la función para x = 3 es: 14\n"
     ]
    }
   ],
   "source": [
    "def funcion_lineal(x):\n",
    "    \"\"\"\n",
    "    Calcula y = 4x + 2.\n",
    "\n",
    "    Args:\n",
    "        x (float): El valor de entrada.\n",
    "\n",
    "    Returns:\n",
    "        float: El resultado de la función.\n",
    "    \"\"\"\n",
    "    return 4 * x + 2\n",
    "\n",
    "# Ejemplo de uso\n",
    "x = 3\n",
    "resultado = funcion_lineal(x)\n",
    "print(\"El resultado de la función para x =\", x, \"es:\", resultado)\n",
    "\n"
   ]
  },
  {
   "cell_type": "code",
   "execution_count": 11,
   "metadata": {},
   "outputs": [
    {
     "name": "stdout",
     "output_type": "stream",
     "text": [
      "El resultado de la función para x = 3 es: 41\n"
     ]
    }
   ],
   "source": [
    "def funcion_2(x):\n",
    "    return 3* x**2 + 4* x +2\n",
    "resultado2 = funcion_2(x)\n",
    "x=3\n",
    "print(\"El resultado de la función para x =\", x, \"es:\", resultado2)\n"
   ]
  },
  {
   "cell_type": "code",
   "execution_count": 12,
   "metadata": {},
   "outputs": [
    {
     "name": "stdout",
     "output_type": "stream",
     "text": [
      "Resultado del primer polinomio: 14\n",
      "Resultado del segundo polinomio: 22\n"
     ]
    }
   ],
   "source": [
    "def evaluar_polinomio(x, coeficientes):\n",
    "    \"\"\"\n",
    "    Evalúa un polinomio dado por una lista de coeficientes en un punto x.\n",
    "\n",
    "    Args:\n",
    "        x (float): El valor en el que se evaluará el polinomio.\n",
    "        coeficientes (list): Una lista de coeficientes del polinomio, donde el índice\n",
    "                             i-ésimo representa el coeficiente de x^i.\n",
    "\n",
    "    Returns:\n",
    "        float: El valor del polinomio evaluado en x.\n",
    "    \"\"\"\n",
    "    # Inicializamos el valor del polinomio en x\n",
    "    valor_polinomio = 0\n",
    "\n",
    "    # Iteramos sobre cada coeficiente y lo multiplicamos por la correspondiente potencia de x\n",
    "    for i, coeficiente in enumerate(coeficientes):\n",
    "        valor_polinomio += coeficiente * x**i\n",
    "\n",
    "    return valor_polinomio\n",
    "\n",
    "# Ejemplos de uso\n",
    "# Evaluamos el polinomio y = 4x + 2 en x = 3\n",
    "resultado_1 = evaluar_polinomio(3, [2, 4])\n",
    "print(\"Resultado del primer polinomio:\", resultado_1)\n",
    "\n",
    "# Evaluamos el polinomio y = 3x**2 + 4x + 2 en x = 2\n",
    "resultado_2 = evaluar_polinomio(2, [2, 4, 3])\n",
    "print(\"Resultado del segundo polinomio:\", resultado_2)\n"
   ]
  },
  {
   "cell_type": "code",
   "execution_count": null,
   "metadata": {},
   "outputs": [],
   "source": []
  }
 ],
 "metadata": {
  "kernelspec": {
   "display_name": "Python 3 (ipykernel)",
   "language": "python",
   "name": "python3"
  },
  "language_info": {
   "codemirror_mode": {
    "name": "ipython",
    "version": 3
   },
   "file_extension": ".py",
   "mimetype": "text/x-python",
   "name": "python",
   "nbconvert_exporter": "python",
   "pygments_lexer": "ipython3",
   "version": "3.12.1"
  },
  "vscode": {
   "interpreter": {
    "hash": "90139cb9a825bf3d63f6f6704e828dbd1ff7edbd4d0c6e906a71235d6efc74af"
   }
  }
 },
 "nbformat": 4,
 "nbformat_minor": 4
}
